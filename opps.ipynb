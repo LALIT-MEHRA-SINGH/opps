{
 "cells": [
  {
   "cell_type": "code",
   "execution_count": 1,
   "id": "cb96f84b-1b12-47ec-b6d8-2515ca7090ff",
   "metadata": {},
   "outputs": [
    {
     "name": "stdout",
     "output_type": "stream",
     "text": [
      "The animal makes a sound.\n",
      "Bark!\n"
     ]
    }
   ],
   "source": [
    "#Q1. Create a parent class Animal with a method speak() that prints a generic message. Create a child class Dog that overrides the speak() method to print \"Bark!\".\n",
    "\n",
    "class Animal:\n",
    "    def speak(self):\n",
    "        print(\"The animal makes a sound.\")\n",
    "\n",
    "class Dog(Animal):\n",
    "    def speak(self):\n",
    "        print(\"Bark!\")\n",
    "\n",
    "# Example usage\n",
    "animal = Animal()\n",
    "animal.speak()  # Output: The animal makes a sound.\n",
    "\n",
    "dog = Dog()\n",
    "dog.speak()  # Output: Bark!\n"
   ]
  },
  {
   "cell_type": "code",
   "execution_count": 2,
   "id": "991c9b2c-0c5c-4aa7-860c-d552b81e8fff",
   "metadata": {},
   "outputs": [
    {
     "name": "stdout",
     "output_type": "stream",
     "text": [
      "Area of the circle: 78.54\n",
      "Area of the rectangle: 24\n"
     ]
    }
   ],
   "source": [
    "#Q2..Write a program to create an abstract class Shape with a method area(). Derive classes Circle and Rectangle from it and implement the area() method in both.?\n",
    "\n",
    "from abc import ABC, abstractmethod\n",
    "import math\n",
    "\n",
    "# Abstract class Shape\n",
    "class Shape(ABC):\n",
    "    @abstractmethod\n",
    "    def area(self):\n",
    "        pass\n",
    "\n",
    "# Derived class Circle\n",
    "class Circle(Shape):\n",
    "    def __init__(self, radius):\n",
    "        self.radius = radius\n",
    "\n",
    "    def area(self):\n",
    "        return math.pi * self.radius ** 2\n",
    "\n",
    "# Derived class Rectangle\n",
    "class Rectangle(Shape):\n",
    "    def __init__(self, width, height):\n",
    "        self.width = width\n",
    "        self.height = height\n",
    "\n",
    "    def area(self):\n",
    "        return self.width * self.height\n",
    "\n",
    "# Test the classes\n",
    "if __name__ == \"__main__\":\n",
    "    # Create instances of Circle and Rectangle\n",
    "    circle = Circle(5)\n",
    "    rectangle = Rectangle(4, 6)\n",
    "\n",
    "    # Print areas\n",
    "    print(f\"Area of the circle: {circle.area():.2f}\")\n",
    "    print(f\"Area of the rectangle: {rectangle.area()}\")\n"
   ]
  },
  {
   "cell_type": "code",
   "execution_count": 3,
   "id": "d96a68ed-db4d-4c92-b4cd-860e3e32aef2",
   "metadata": {},
   "outputs": [
    {
     "name": "stdout",
     "output_type": "stream",
     "text": [
      "Vehicle Type: General\n",
      "Vehicle Type: Car, Brand: Toyota\n",
      "Vehicle Type: Car, Brand: Tesla, Battery Capacity: 75 kWh\n"
     ]
    }
   ],
   "source": [
    "#Q3. Implement a multi-level inheritance scenario where a class Vehicle has an attribute type. Derive a class Car and further derive a class ElectricCar that adds a battery attribute?\n",
    "\n",
    "# Base class\n",
    "class Vehicle:\n",
    "    def __init__(self, vehicle_type):\n",
    "        self.type = vehicle_type\n",
    "\n",
    "    def show_info(self):\n",
    "        return f\"Vehicle Type: {self.type}\"\n",
    "\n",
    "\n",
    "# Derived class\n",
    "class Car(Vehicle):\n",
    "    def __init__(self, vehicle_type, brand):\n",
    "        super().__init__(vehicle_type)\n",
    "        self.brand = brand\n",
    "\n",
    "    def show_info(self):\n",
    "        return f\"{super().show_info()}, Brand: {self.brand}\"\n",
    "\n",
    "\n",
    "# Further derived class\n",
    "class ElectricCar(Car):\n",
    "    def __init__(self, vehicle_type, brand, battery_capacity):\n",
    "        super().__init__(vehicle_type, brand)\n",
    "        self.battery = battery_capacity\n",
    "\n",
    "    def show_info(self):\n",
    "        return f\"{super().show_info()}, Battery Capacity: {self.battery} kWh\"\n",
    "\n",
    "\n",
    "# Example usage\n",
    "vehicle = Vehicle(\"General\")\n",
    "print(vehicle.show_info())  # Output: Vehicle Type: General\n",
    "\n",
    "car = Car(\"Car\", \"Toyota\")\n",
    "print(car.show_info())  # Output: Vehicle Type: Car, Brand: Toyota\n",
    "\n",
    "electric_car = ElectricCar(\"Car\", \"Tesla\", 75)\n",
    "print(electric_car.show_info())  # Output: Vehicle Type: Car, Brand: Tesla, Battery Capacity: 75 kWh\n"
   ]
  },
  {
   "cell_type": "code",
   "execution_count": 8,
   "id": "029f4bea-1261-4882-953f-71645e75a934",
   "metadata": {},
   "outputs": [
    {
     "name": "stdout",
     "output_type": "stream",
     "text": [
      "Vehicle type: Generic Vehicle\n",
      "Vehicle type: Car\n",
      "Car brand: Toyota, Model: Corolla\n",
      "Vehicle type: Electric Car\n",
      "Car brand: Tesla, Model: Model S\n",
      "Battery capacity: 100 kWh\n"
     ]
    }
   ],
   "source": [
    "#Q4. Implement a multi-level inheritance scenario where a class Vehicle has an attribute type. Derive a class Car and further derive a class ElectricCar that adds a battery attribute.?\n",
    "# Base class\n",
    "class Vehicle:\n",
    "    def __init__(self, vehicle_type):\n",
    "        self.type = vehicle_type\n",
    "    \n",
    "    def show_type(self):\n",
    "        print(f\"Vehicle type: {self.type}\")\n",
    "\n",
    "# Derived class\n",
    "class Car(Vehicle):\n",
    "    def __init__(self, vehicle_type, brand, model):\n",
    "        super().__init__(vehicle_type)\n",
    "        self.brand = brand\n",
    "        self.model = model\n",
    "    \n",
    "    def show_car_details(self):\n",
    "        print(f\"Car brand: {self.brand}, Model: {self.model}\")\n",
    "\n",
    "# Further derived class\n",
    "class ElectricCar(Car):\n",
    "    def __init__(self, vehicle_type, brand, model, battery_capacity):\n",
    "        super().__init__(vehicle_type, brand, model)\n",
    "        self.battery_capacity = battery_capacity\n",
    "    \n",
    "    def show_battery_details(self):\n",
    "        print(f\"Battery capacity: {self.battery_capacity} kWh\")\n",
    "\n",
    "# Example usage\n",
    "vehicle = Vehicle(\"Generic Vehicle\")\n",
    "vehicle.show_type()\n",
    "\n",
    "car = Car(\"Car\", \"Toyota\", \"Corolla\")\n",
    "car.show_type()\n",
    "car.show_car_details()\n",
    "\n",
    "electric_car = ElectricCar(\"Electric Car\", \"Tesla\", \"Model S\", 100)\n",
    "electric_car.show_type()\n",
    "electric_car.show_car_details()\n",
    "electric_car.show_battery_details()\n",
    "\n",
    "\n",
    "\n",
    "\n",
    "\n"
   ]
  },
  {
   "cell_type": "code",
   "execution_count": 9,
   "id": "c36764a7-83a9-44d0-a6fa-53b47e48d6e5",
   "metadata": {},
   "outputs": [
    {
     "name": "stdout",
     "output_type": "stream",
     "text": [
      "$50 deposited successfully.\n",
      "$30 withdrawn successfully.\n",
      "Current balance: $120\n",
      "Insufficient balance.\n",
      "Deposit amount must be positive.\n",
      "Withdrawal amount must be positive.\n"
     ]
    }
   ],
   "source": [
    "#Q5. Write a program to demonstrate encapsulation by creating a class BankAccount with private attributes balance and methods to deposit, withdraw, and check balance.?\n",
    "\n",
    "class BankAccount:\n",
    "    def __init__(self, initial_balance=0):\n",
    "        # Private attribute to store the balance\n",
    "        self.__balance = initial_balance\n",
    "\n",
    "    # Method to deposit money into the account\n",
    "    def deposit(self, amount):\n",
    "        if amount > 0:\n",
    "            self.__balance += amount\n",
    "            print(f\"${amount} deposited successfully.\")\n",
    "        else:\n",
    "            print(\"Deposit amount must be positive.\")\n",
    "\n",
    "    # Method to withdraw money from the account\n",
    "    def withdraw(self, amount):\n",
    "        if amount > 0:\n",
    "            if amount <= self.__balance:\n",
    "                self.__balance -= amount\n",
    "                print(f\"${amount} withdrawn successfully.\")\n",
    "            else:\n",
    "                print(\"Insufficient balance.\")\n",
    "        else:\n",
    "            print(\"Withdrawal amount must be positive.\")\n",
    "\n",
    "    # Method to check the balance\n",
    "    def check_balance(self):\n",
    "        return self.__balance\n",
    "\n",
    "\n",
    "# Demonstration of the BankAccount class\n",
    "if __name__ == \"__main__\":\n",
    "    # Create a BankAccount object with an initial balance of $100\n",
    "    account = BankAccount(100)\n",
    "\n",
    "    # Deposit money\n",
    "    account.deposit(50)\n",
    "\n",
    "    # Withdraw money\n",
    "    account.withdraw(30)\n",
    "\n",
    "    # Check balance\n",
    "    print(f\"Current balance: ${account.check_balance()}\")\n",
    "\n",
    "    # Attempt to withdraw more than the available balance\n",
    "    account.withdraw(200)\n",
    "\n",
    "    # Try to deposit a negative amount (invalid)\n",
    "    account.deposit(-10)\n",
    "\n",
    "    # Try to withdraw a negative amount (invalid)\n",
    "    account.withdraw(-5)\n"
   ]
  },
  {
   "cell_type": "code",
   "execution_count": 20,
   "id": "28737dad-655a-4eaa-a896-7b1189d9b57f",
   "metadata": {},
   "outputs": [
    {
     "name": "stdout",
     "output_type": "stream",
     "text": [
      "Playing an instrument\n",
      "Playing the guitar\n",
      "Playing the piano\n",
      "Playing an instrument\n",
      "Playing the guitar\n",
      "Playing the piano\n"
     ]
    }
   ],
   "source": [
    "#Q6. Demonstrate runtime polymorphism using a method play() in a base class Instrument. Derive classes Guitar and Piano that implement their own version of play().?\n",
    "class Instrument:\n",
    "    def play(self):\n",
    "        print(\"Playing an instrument\")\n",
    "\n",
    "class Guitar(Instrument):\n",
    "    def play(self):\n",
    "        print(\"Playing the guitar\")\n",
    "\n",
    "class Piano(Instrument):\n",
    "    def play(self):\n",
    "        print(\"Playing the piano\")\n",
    "\n",
    "# Create instances of the classes\n",
    "instrument = Instrument()\n",
    "guitar = Guitar()\n",
    "piano = Piano()\n",
    "\n",
    "# Call the play() method for each object\n",
    "instrument.play()  # Output: Playing an instrument\n",
    "guitar.play()     # Output: Playing the guitar\n",
    "piano.play()      # Output: Playing the piano\n",
    "\n",
    "# Demonstrate polymorphism using a list of instruments\n",
    "instruments = [instrument, guitar, piano]\n",
    "\n",
    "for instrument in instruments:\n",
    "  instrument.play()"
   ]
  },
  {
   "cell_type": "code",
   "execution_count": 21,
   "id": "d7f8349e-4504-4b37-b958-225bbf0f4ed2",
   "metadata": {},
   "outputs": [],
   "source": [
    "#Q7. Create a class MathOperations with a class method add_numbers() to add two numbers and a static method subtract_numbers() to subtract two numbers?"
   ]
  },
  {
   "cell_type": "code",
   "execution_count": 25,
   "id": "749bed69-4418-4496-b202-781b55b0a262",
   "metadata": {},
   "outputs": [
    {
     "name": "stdout",
     "output_type": "stream",
     "text": [
      "Total persons created: 3\n"
     ]
    }
   ],
   "source": [
    "#Q8. Implement a class Person with a class method to count the total number of persons created.?\n",
    "class Person:\n",
    "    # Class attribute to track the number of persons created\n",
    "    _count = 0\n",
    "\n",
    "    def __init__(self, name):\n",
    "        self.name = name\n",
    "        # Increment the count each time a new instance is created\n",
    "        Person._count += 1\n",
    "\n",
    "    @classmethod\n",
    "    def get_total_persons(cls):\n",
    "        \"\"\"\n",
    "        Class method to get the total number of Person instances created.\n",
    "        \"\"\"\n",
    "        return cls._count\n",
    "\n",
    "# Example usage\n",
    "person1 = Person(\"Alice\")\n",
    "person2 = Person(\"Bob\")\n",
    "person3 = Person(\"Charlie\")\n",
    "\n",
    "print(f\"Total persons created: {Person.get_total_persons()}\")\n"
   ]
  },
  {
   "cell_type": "code",
   "execution_count": 26,
   "id": "27ae88f3-857c-4f1c-9421-dec7016b6d90",
   "metadata": {},
   "outputs": [
    {
     "name": "stdout",
     "output_type": "stream",
     "text": [
      "3/4\n"
     ]
    }
   ],
   "source": [
    "#Q9. Write a class Fraction with attributes numerator and denominator. Override the str method to display the fraction as \"numerator/denominator\".?\n",
    "class Fraction:\n",
    "    def __init__(self, numerator, denominator):\n",
    "        self.numerator = numerator\n",
    "        self.denominator = denominator\n",
    "\n",
    "    def __str__(self):\n",
    "        return f\"{self.numerator}/{self.denominator}\"\n",
    "\n",
    "# Example usage:\n",
    "fraction = Fraction(3, 4)\n",
    "print(fraction)  # Output: 3/4\n"
   ]
  },
  {
   "cell_type": "code",
   "execution_count": 27,
   "id": "a26ff82f-1144-4e0a-8172-1a3c743580f0",
   "metadata": {},
   "outputs": [
    {
     "name": "stdout",
     "output_type": "stream",
     "text": [
      "Vector(4, 6)\n"
     ]
    }
   ],
   "source": [
    "#Q10. Demonstrate operator overloading by creating a class Vector and overriding the add method to add two vectors.?\n",
    "class Vector:\n",
    "    def __init__(self, x, y):\n",
    "        self.x = x\n",
    "        self.y = y\n",
    "\n",
    "    def __add__(self, other):\n",
    "        # Add the corresponding components of two vectors\n",
    "        return Vector(self.x + other.x, self.y + other.y)\n",
    "\n",
    "    def __repr__(self):\n",
    "        return f\"Vector({self.x}, {self.y})\"\n",
    "\n",
    "# Example usage\n",
    "v1 = Vector(1, 2)\n",
    "v2 = Vector(3, 4)\n",
    "\n",
    "v3 = v1 + v2  # This calls the __add__ method\n",
    "\n",
    "print(v3)  \n"
   ]
  },
  {
   "cell_type": "code",
   "execution_count": 28,
   "id": "ce4714c6-6120-448e-bd14-e578c338e1a4",
   "metadata": {},
   "outputs": [
    {
     "name": "stdout",
     "output_type": "stream",
     "text": [
      "Hello, my name is John and I am 30 years old.\n"
     ]
    }
   ],
   "source": [
    "#Q11. Create a class Person with attributes name and age. Add a method greet() that prints \"Hello, my name is {name} and I am {age} years old.?\n",
    "class Person:\n",
    "    def __init__(self, name, age):\n",
    "        self.name = name\n",
    "        self.age = age\n",
    "    \n",
    "    def greet(self):\n",
    "        print(f\"Hello, my name is {self.name} and I am {self.age} years old.\")\n",
    "\n",
    "# Example of creating a person object and calling greet\n",
    "person1 = Person(\"John\", 30)\n",
    "person1.greet()\n"
   ]
  },
  {
   "cell_type": "code",
   "execution_count": 30,
   "id": "22042fbe-8a5e-41e0-97bc-ea263441706e",
   "metadata": {},
   "outputs": [
    {
     "name": "stdout",
     "output_type": "stream",
     "text": [
      "Hello, my name is John and I am 30 years old.\n"
     ]
    }
   ],
   "source": [
    "#Q12 Implement a class Student with attributes name and grades. Create a method average_grade() to compute the average of the grades.?\n",
    "class Person:\n",
    "    def __init__(self, name, age):\n",
    "        self.name = name\n",
    "        self.age = age\n",
    "    \n",
    "    def greet(self):\n",
    "        print(f\"Hello, my name is {self.name} and I am {self.age} years old.\")\n",
    "\n",
    "# Example of creating a person object and calling greet\n",
    "person1 = Person(\"John\", 30)\n",
    "person1.greet()\n"
   ]
  },
  {
   "cell_type": "code",
   "execution_count": 29,
   "id": "d227d5ea-25cc-489b-aa03-290909a0ed38",
   "metadata": {},
   "outputs": [
    {
     "name": "stdout",
     "output_type": "stream",
     "text": [
      "Area of the rectangle: 15\n"
     ]
    }
   ],
   "source": [
    "#Q13. Create a class Rectangle with methods set_dimensions() to set the dimensions and area() to calculate the area.?\n",
    "class Rectangle:\n",
    "    def __init__(self):\n",
    "        # Initialize the dimensions to 0\n",
    "        self.length = 0\n",
    "        self.width = 0\n",
    "\n",
    "    def set_dimensions(self, length, width):\n",
    "        # Set the length and width of the rectangle\n",
    "        self.length = length\n",
    "        self.width = width\n",
    "\n",
    "    def area(self):\n",
    "        # Calculate and return the area of the rectangle\n",
    "        return self.length * self.width\n",
    "\n",
    "# Example usage:\n",
    "rect = Rectangle()\n",
    "rect.set_dimensions(5, 3)  # Set length to 5 and width to 3\n",
    "print(\"Area of the rectangle:\", rect.area())  # Output: 15\n",
    "\n"
   ]
  },
  {
   "cell_type": "code",
   "execution_count": 33,
   "id": "21e82c72-8a43-42fd-9523-d733dac76f14",
   "metadata": {},
   "outputs": [
    {
     "name": "stdout",
     "output_type": "stream",
     "text": [
      "Employee Salary: $1000\n",
      "Manager Salary: $1700\n"
     ]
    }
   ],
   "source": [
    "#Q14. Create a class Employee with a method calculate_salary() that computes the salary based on hours worked and hourly rate. Create a derived class Manager that adds a bonus to the salary?\n",
    "class Employee:\n",
    "    def __init__(self, name, hours_worked, hourly_rate):\n",
    "        self.name = name\n",
    "        self.hours_worked = hours_worked\n",
    "        self.hourly_rate = hourly_rate\n",
    "\n",
    "    def calculate_salary(self):\n",
    "        # Salary is calculated as hours worked multiplied by hourly rate\n",
    "        return self.hours_worked * self.hourly_rate\n",
    "\n",
    "\n",
    "class Manager(Employee):\n",
    "    def __init__(self, name, hours_worked, hourly_rate, bonus):\n",
    "        # Initialize the Employee part first\n",
    "        super().__init__(name, hours_worked, hourly_rate)\n",
    "        self.bonus = bonus\n",
    "\n",
    "    def calculate_salary(self):\n",
    "        # Manager salary includes the bonus\n",
    "        base_salary = super().calculate_salary()\n",
    "        return base_salary + self.bonus\n",
    "\n",
    "\n",
    "# Example usage:\n",
    "employee = Employee(\"John Doe\", 40, 25)\n",
    "print(f\"Employee Salary: ${employee.calculate_salary()}\")\n",
    "\n",
    "manager = Manager(\"Jane Smith\", 40, 30, 500)\n",
    "print(f\"Manager Salary: ${manager.calculate_salary()}\")\n",
    "\n"
   ]
  },
  {
   "cell_type": "code",
   "execution_count": 34,
   "id": "b7d5c0ea-9605-42b2-b84b-624115d1abd6",
   "metadata": {},
   "outputs": [
    {
     "name": "stdout",
     "output_type": "stream",
     "text": [
      "Total price of Laptop: $3000\n"
     ]
    }
   ],
   "source": [
    "#Q15. Create a class Product with attributes name, price, and quantity. Implement a method total_price() that calculates the total price of the product.?\n",
    "class Product:\n",
    "    def __init__(self, name, price, quantity):\n",
    "        self.name = name\n",
    "        self.price = price\n",
    "        self.quantity = quantity\n",
    "\n",
    "    def total_price(self):\n",
    "        return self.price * self.quantity\n",
    "\n",
    "# Example usage\n",
    "product = Product(\"Laptop\", 1000, 3)\n",
    "print(f\"Total price of {product.name}: ${product.total_price()}\")\n"
   ]
  },
  {
   "cell_type": "code",
   "execution_count": 35,
   "id": "c12aa69d-3709-46dd-b4fd-f04bfe6c47d2",
   "metadata": {},
   "outputs": [
    {
     "name": "stdout",
     "output_type": "stream",
     "text": [
      "Cow says: Moo\n",
      "Sheep says: Baa\n"
     ]
    }
   ],
   "source": [
    "#Q16. Create a class Animal with an abstract method sound(). Create two derived classes Cow and Sheep that implement the sound() method.?\n",
    "from abc import ABC, abstractmethod\n",
    "\n",
    "# Abstract base class\n",
    "class Animal(ABC):\n",
    "    \n",
    "    @abstractmethod\n",
    "    def sound(self):\n",
    "        pass\n",
    "\n",
    "# Derived class Cow\n",
    "class Cow(Animal):\n",
    "    \n",
    "    def sound(self):\n",
    "        return \"Moo\"\n",
    "\n",
    "# Derived class Sheep\n",
    "class Sheep(Animal):\n",
    "    \n",
    "    def sound(self):\n",
    "        return \"Baa\"\n",
    "\n",
    "# Testing the classes\n",
    "cow = Cow()\n",
    "sheep = Sheep()\n",
    "\n",
    "print(f\"Cow says: {cow.sound()}\")\n",
    "print(f\"Sheep says: {sheep.sound()}\")\n"
   ]
  },
  {
   "cell_type": "code",
   "execution_count": 36,
   "id": "76411d9a-8b46-47a6-bfb4-b9b527c98e1a",
   "metadata": {},
   "outputs": [
    {
     "name": "stdout",
     "output_type": "stream",
     "text": [
      "Title: To Kill a Mockingbird\n",
      "Author: Harper Lee\n",
      "Year Published: 1960\n"
     ]
    }
   ],
   "source": [
    "#Q17. Create a class Book with attributes title, author, and year_published. Add a method get_book_info() that returns a formatted string with the book's details.?\n",
    "class Book:\n",
    "    def __init__(self, title, author, year_published):\n",
    "        self.title = title\n",
    "        self.author = author\n",
    "        self.year_published = year_published\n",
    "\n",
    "    def get_book_info(self):\n",
    "        return f\"Title: {self.title}\\nAuthor: {self.author}\\nYear Published: {self.year_published}\"\n",
    "\n",
    "# Example usage\n",
    "book1 = Book(\"To Kill a Mockingbird\", \"Harper Lee\", 1960)\n",
    "print(book1.get_book_info())\n"
   ]
  },
  {
   "cell_type": "code",
   "execution_count": 37,
   "id": "62cff4f7-8c83-434f-ab19-ebefacb0ab56",
   "metadata": {},
   "outputs": [
    {
     "name": "stdout",
     "output_type": "stream",
     "text": [
      "House at 123 Elm St, priced at $250000\n",
      "Mansion at 456 Grand Ave, priced at $5000000, with 12 rooms\n"
     ]
    }
   ],
   "source": [
    "#Q18. Create a class House with attributes address and price. Create a derived class Mansion that adds an attribute number_of_rooms?\n",
    "# Base class House\n",
    "class House:\n",
    "    def __init__(self, address, price):\n",
    "        self.address = address\n",
    "        self.price = price\n",
    "\n",
    "    def __str__(self):\n",
    "        return f\"House at {self.address}, priced at ${self.price}\"\n",
    "\n",
    "# Derived class Mansion\n",
    "class Mansion(House):\n",
    "    def __init__(self, address, price, number_of_rooms):\n",
    "        # Initialize the base class (House)\n",
    "        super().__init__(address, price)\n",
    "        self.number_of_rooms = number_of_rooms\n",
    "\n",
    "    def __str__(self):\n",
    "        return f\"Mansion at {self.address}, priced at ${self.price}, with {self.number_of_rooms} rooms\"\n",
    "\n",
    "# Example usage\n",
    "house = House(\"123 Elm St\", 250000)\n",
    "mansion = Mansion(\"456 Grand Ave\", 5000000, 12)\n",
    "\n",
    "print(house)\n",
    "print(mansion)\n"
   ]
  },
  {
   "cell_type": "code",
   "execution_count": null,
   "id": "52a32c2f-295b-4ebb-bba5-aa9cabb725f5",
   "metadata": {},
   "outputs": [],
   "source": []
  }
 ],
 "metadata": {
  "kernelspec": {
   "display_name": "Python 3 (ipykernel)",
   "language": "python",
   "name": "python3"
  },
  "language_info": {
   "codemirror_mode": {
    "name": "ipython",
    "version": 3
   },
   "file_extension": ".py",
   "mimetype": "text/x-python",
   "name": "python",
   "nbconvert_exporter": "python",
   "pygments_lexer": "ipython3",
   "version": "3.12.7"
  }
 },
 "nbformat": 4,
 "nbformat_minor": 5
}
